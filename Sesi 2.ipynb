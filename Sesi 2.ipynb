{
 "cells": [
  {
   "cell_type": "code",
   "execution_count": 1,
   "metadata": {},
   "outputs": [
    {
     "name": "stdout",
     "output_type": "stream",
     "text": [
      "['Adit', 'Bagus', 'Daniel']\n",
      "['Satya', 'Richard', 'Stefani']\n"
     ]
    }
   ],
   "source": [
    "names = ['Adit', 'Bagus', 'Daniel']\n",
    "others = ['Satya', 'Richard', 'Stefani']\n",
    "\n",
    "print(names)\n",
    "print(others)\n"
   ]
  },
  {
   "cell_type": "code",
   "execution_count": 7,
   "metadata": {},
   "outputs": [
    {
     "name": "stdout",
     "output_type": "stream",
     "text": [
      "Yes! 0 < 50\n",
      "Yes! 0 < 50\n"
     ]
    }
   ],
   "source": [
    "x = 0\n",
    "y = 50\n",
    "z = \"satya\"\n",
    "\n",
    "if x < y:\n",
    "    print(f\"Yes! {x} < {y}\")\n",
    "    print(\"Yes! {} < {}\".format(x, y))\n",
    "    \n",
    "if z in others:\n",
    "    print(f\"name:)"
   ]
  },
  {
   "cell_type": "code",
   "execution_count": 8,
   "metadata": {},
   "outputs": [
    {
     "name": "stdout",
     "output_type": "stream",
     "text": [
      "just buy magazine\n"
     ]
    }
   ],
   "source": [
    "book_price = 1000\n",
    "mag_price = 500\n",
    "money = 600\n",
    "\n",
    "if money >= book_price:\n",
    "    print(\"let's buy a book\")\n",
    "elif money >= mag_price:\n",
    "    print(\"just buy magazine\")\n",
    "else:\n",
    "    print(\"collect more money\")\n",
    "\n"
   ]
  },
  {
   "cell_type": "code",
   "execution_count": 9,
   "metadata": {},
   "outputs": [
    {
     "name": "stdout",
     "output_type": "stream",
     "text": [
      "1 les than 7\n"
     ]
    }
   ],
   "source": [
    "score = 1\n",
    "min_score = 7\n",
    "\n",
    "if score < min_score:\n",
    "    print(score, \"les than {}\".format(min_score))\n"
   ]
  },
  {
   "cell_type": "code",
   "execution_count": 10,
   "metadata": {},
   "outputs": [
    {
     "name": "stdout",
     "output_type": "stream",
     "text": [
      "1 les than {} 7\n",
      "2 les than {} 7\n",
      "3 les than {} 7\n",
      "4 les than {} 7\n",
      "5 les than {} 7\n",
      "6 les than {} 7\n"
     ]
    }
   ],
   "source": [
    "while score < min_score:\n",
    "    print(score, \"les than {}\",format(min_score))\n",
    "    score = score + 1"
   ]
  },
  {
   "cell_type": "code",
   "execution_count": 12,
   "metadata": {},
   "outputs": [
    {
     "name": "stdout",
     "output_type": "stream",
     "text": [
      "['Satya', 'Richard', 'Stefani']\n",
      "Satya\n",
      "Richard\n",
      "Stefani\n"
     ]
    }
   ],
   "source": [
    "print (others)\n",
    "\n",
    "for name in others:\n",
    "    print(name)"
   ]
  },
  {
   "cell_type": "code",
   "execution_count": 13,
   "metadata": {},
   "outputs": [
    {
     "name": "stdout",
     "output_type": "stream",
     "text": [
      "1\n",
      "2\n",
      "3\n",
      "4\n",
      "5\n",
      "6\n",
      "7\n",
      "8\n",
      "9\n",
      "10\n"
     ]
    }
   ],
   "source": [
    "for i in [1, 2, 3, 4, 5, 6, 7, 8, 9, 10]:\n",
    "    print(i)"
   ]
  },
  {
   "cell_type": "code",
   "execution_count": 18,
   "metadata": {},
   "outputs": [
    {
     "name": "stdout",
     "output_type": "stream",
     "text": [
      "name: Adit\n",
      "a-\n",
      "a-d-\n",
      "a-d-i-\n",
      "a-d-i-t-\n",
      "name: Bagus\n",
      "b-\n",
      "b-a-\n",
      "b-a-g-\n",
      "b-a-g-u-\n",
      "b-a-g-u-s-\n",
      "name: Daniel\n",
      "d-\n",
      "d-a-\n",
      "d-a-n-\n",
      "d-a-n-i-\n",
      "d-a-n-i-e-\n",
      "d-a-n-i-e-l-\n"
     ]
    }
   ],
   "source": [
    "# output \"s-a-t-y-a\"\n",
    "for name in names:\n",
    "    print(\"name:\", name)\n",
    "    s = \"\"\n",
    "    for char in name:\n",
    "        s = s + char + \"-\"\n",
    "        print(s.lower())"
   ]
  },
  {
   "cell_type": "code",
   "execution_count": 20,
   "metadata": {},
   "outputs": [
    {
     "name": "stdout",
     "output_type": "stream",
     "text": [
      "[0, 1, 2, 3, 4, 5, 6, 7, 8, 9]\n"
     ]
    }
   ],
   "source": [
    "print(list(range(0, 10)))"
   ]
  },
  {
   "cell_type": "code",
   "execution_count": 21,
   "metadata": {},
   "outputs": [
    {
     "name": "stdout",
     "output_type": "stream",
     "text": [
      "[0, 1, 2, 3, 4, 5, 6, 7, 8, 9, 10, 11, 12, 13, 14, 15, 16, 17, 18, 19, 20, 21, 22, 23, 24, 25, 26, 27, 28, 29, 30, 31, 32, 33, 34, 35, 36, 37, 38, 39, 40, 41, 42, 43, 44, 45, 46, 47, 48, 49, 50, 51, 52, 53, 54, 55, 56, 57, 58, 59, 60, 61, 62, 63, 64, 65, 66, 67, 68, 69, 70, 71, 72, 73, 74, 75, 76, 77, 78, 79, 80, 81, 82, 83, 84, 85, 86, 87, 88, 89, 90, 91, 92, 93, 94, 95, 96, 97, 98, 99]\n"
     ]
    }
   ],
   "source": [
    "print(list(range(100)))"
   ]
  },
  {
   "cell_type": "code",
   "execution_count": 22,
   "metadata": {},
   "outputs": [
    {
     "name": "stdout",
     "output_type": "stream",
     "text": [
      "[0, 2, 4, 6, 8, 10, 12, 14, 16, 18, 20, 22, 24, 26, 28, 30, 32, 34, 36, 38, 40, 42, 44, 46, 48, 50, 52, 54, 56, 58, 60, 62, 64, 66, 68, 70, 72, 74, 76, 78, 80, 82, 84, 86, 88, 90, 92, 94, 96, 98]\n"
     ]
    }
   ],
   "source": [
    "print(list(range(0, 100, 2)))"
   ]
  },
  {
   "cell_type": "code",
   "execution_count": 23,
   "metadata": {},
   "outputs": [
    {
     "name": "stdout",
     "output_type": "stream",
     "text": [
      "Adit\n",
      "Bagus\n",
      "Daniel\n"
     ]
    }
   ],
   "source": [
    "for i in range(len(names)):\n",
    "    print(names[i])"
   ]
  },
  {
   "cell_type": "code",
   "execution_count": 25,
   "metadata": {},
   "outputs": [
    {
     "name": "stdout",
     "output_type": "stream",
     "text": [
      "names ['Adit']\n",
      "names ['Bagus']\n",
      "names ['Daniel']\n"
     ]
    }
   ],
   "source": [
    "for i in names:\n",
    "    print(\"names\",[i])"
   ]
  },
  {
   "cell_type": "code",
   "execution_count": null,
   "metadata": {},
   "outputs": [],
   "source": []
  }
 ],
 "metadata": {
  "kernelspec": {
   "display_name": "Python 3",
   "language": "python",
   "name": "python3"
  },
  "language_info": {
   "codemirror_mode": {
    "name": "ipython",
    "version": 3
   },
   "file_extension": ".py",
   "mimetype": "text/x-python",
   "name": "python",
   "nbconvert_exporter": "python",
   "pygments_lexer": "ipython3",
   "version": "3.8.5"
  }
 },
 "nbformat": 4,
 "nbformat_minor": 4
}
