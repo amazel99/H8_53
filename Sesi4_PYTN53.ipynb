{
 "cells": [
  {
   "cell_type": "code",
   "execution_count": 1,
   "metadata": {},
   "outputs": [],
   "source": [
    "import numpy as np"
   ]
  },
  {
   "cell_type": "code",
   "execution_count": 2,
   "metadata": {},
   "outputs": [
    {
     "data": {
      "text/plain": [
       "'1.19.2'"
      ]
     },
     "execution_count": 2,
     "metadata": {},
     "output_type": "execute_result"
    }
   ],
   "source": [
    "np.__version__"
   ]
  },
  {
   "cell_type": "code",
   "execution_count": 5,
   "metadata": {},
   "outputs": [
    {
     "name": "stdout",
     "output_type": "stream",
     "text": [
      "array from a list: [2, 4, 6, 8]\n",
      "array from b list: [2, 2, 1, 1]\n"
     ]
    }
   ],
   "source": [
    "list_array_a = [2, 4, 6, 8]\n",
    "list_array_b = [2, 2, 1, 1]\n",
    " \n",
    "print(\"array from a list:\", list_array_a)\n",
    "print(\"array from b list:\", list_array_b)"
   ]
  },
  {
   "cell_type": "code",
   "execution_count": 7,
   "metadata": {},
   "outputs": [
    {
     "data": {
      "text/plain": [
       "[2, 4, 6, 8, 2, 2, 1, 1]"
      ]
     },
     "execution_count": 7,
     "metadata": {},
     "output_type": "execute_result"
    }
   ],
   "source": [
    "list_array_a + list_array_b"
   ]
  },
  {
   "cell_type": "code",
   "execution_count": 10,
   "metadata": {},
   "outputs": [
    {
     "ename": "TypeError",
     "evalue": "can't multiply sequence by non-int of type 'list'",
     "output_type": "error",
     "traceback": [
      "\u001b[1;31m---------------------------------------------------------------------------\u001b[0m",
      "\u001b[1;31mTypeError\u001b[0m                                 Traceback (most recent call last)",
      "\u001b[1;32m<ipython-input-10-7577f05c44c2>\u001b[0m in \u001b[0;36m<module>\u001b[1;34m\u001b[0m\n\u001b[1;32m----> 1\u001b[1;33m \u001b[0mlist_array_a\u001b[0m \u001b[1;33m*\u001b[0m \u001b[0mlist_array_b\u001b[0m\u001b[1;33m\u001b[0m\u001b[1;33m\u001b[0m\u001b[0m\n\u001b[0m",
      "\u001b[1;31mTypeError\u001b[0m: can't multiply sequence by non-int of type 'list'"
     ]
    }
   ],
   "source": [
    "list_array_a * list_array_b"
   ]
  },
  {
   "cell_type": "code",
   "execution_count": 11,
   "metadata": {},
   "outputs": [
    {
     "name": "stdout",
     "output_type": "stream",
     "text": [
      "[2 4 6 8]\n",
      "[2 4 6 8]\n"
     ]
    }
   ],
   "source": [
    "np_array_a1 = np.array(list_array_a)\n",
    "print(np_array_a1)\n",
    "\n",
    "np_array_b1 = np.array(list_array_b)\n",
    "print(np_array_a1)"
   ]
  },
  {
   "cell_type": "code",
   "execution_count": 12,
   "metadata": {},
   "outputs": [
    {
     "data": {
      "text/plain": [
       "(array([2, 4, 6, 8]), array([2, 2, 1, 1]))"
      ]
     },
     "execution_count": 12,
     "metadata": {},
     "output_type": "execute_result"
    }
   ],
   "source": [
    "np_array_a1, np_array_b1"
   ]
  },
  {
   "cell_type": "code",
   "execution_count": 14,
   "metadata": {},
   "outputs": [
    {
     "name": "stdout",
     "output_type": "stream",
     "text": [
      "[6 8]\n",
      "[2 2]\n"
     ]
    }
   ],
   "source": [
    "print(np_array_a1[2:])\n",
    "print(np_array_b1[:2])"
   ]
  },
  {
   "cell_type": "code",
   "execution_count": 16,
   "metadata": {},
   "outputs": [
    {
     "data": {
      "text/plain": [
       "array([[1, 2, 3],\n",
       "       [4, 5, 6]])"
      ]
     },
     "execution_count": 16,
     "metadata": {},
     "output_type": "execute_result"
    }
   ],
   "source": [
    "np_array_a2 = np.array([[1, 2, 3], [4, 5, 6]])\n",
    "np_array_a2"
   ]
  },
  {
   "cell_type": "code",
   "execution_count": 18,
   "metadata": {},
   "outputs": [
    {
     "data": {
      "text/plain": [
       "array([[0.1, 0.2, 0.3],\n",
       "       [0.4, 0.5, 0.6]])"
      ]
     },
     "execution_count": 18,
     "metadata": {},
     "output_type": "execute_result"
    }
   ],
   "source": [
    "np_array_b2 = np.array([[.1, .2, .3], [.4, .5, .6]])\n",
    "np_array_b2"
   ]
  },
  {
   "cell_type": "code",
   "execution_count": 20,
   "metadata": {},
   "outputs": [
    {
     "name": "stdout",
     "output_type": "stream",
     "text": [
      "(4,)\n",
      "(2, 3)\n",
      "(4,)\n",
      "(2, 3)\n",
      "[[10 20 30 40]] (1, 4)\n",
      "[[ 5]\n",
      " [10]\n",
      " [15]\n",
      " [20]] (4, 1)\n"
     ]
    }
   ],
   "source": [
    "print(np_array_a1.shape)\n",
    "print(np_array_a2.shape)\n",
    "print(np_array_b1.shape)\n",
    "print(np_array_b2.shape)\n",
    "\n",
    "np_array_a14 = np.array([[10, 20, 30, 40]])\n",
    "np_array_a41 = np.array([[5], [10], [15], [20]])\n",
    "print(np_array_a14, np_array_a14.shape)\n",
    "print(np_array_a41, np_array_a41.shape)"
   ]
  },
  {
   "cell_type": "code",
   "execution_count": 24,
   "metadata": {},
   "outputs": [
    {
     "name": "stdout",
     "output_type": "stream",
     "text": [
      "[0. 0. 0. 0. 0.]\n",
      "[[0. 0. 0. 0.]\n",
      " [0. 0. 0. 0.]\n",
      " [0. 0. 0. 0.]]\n"
     ]
    }
   ],
   "source": [
    "np_array_zeros1 = np.zeros(5)\n",
    "np_array_zeros2 = np.zeros((3, 4))\n",
    "                           \n",
    "print(np_array_zeros1)\n",
    "print(np_array_zeros2)"
   ]
  },
  {
   "cell_type": "code",
   "execution_count": 26,
   "metadata": {},
   "outputs": [
    {
     "name": "stdout",
     "output_type": "stream",
     "text": [
      "[[0. 0. 0. ... 0. 0. 0.]\n",
      " [0. 0. 0. ... 0. 0. 0.]\n",
      " [0. 0. 0. ... 0. 0. 0.]\n",
      " ...\n",
      " [0. 0. 0. ... 0. 0. 0.]\n",
      " [0. 0. 0. ... 0. 0. 0.]\n",
      " [0. 0. 0. ... 0. 0. 0.]]\n",
      "(100, 100)\n"
     ]
    }
   ],
   "source": [
    "zeros = np.zeros((100, 100))\n",
    "print(zeros)\n",
    "print(zeros.shape)"
   ]
  },
  {
   "cell_type": "code",
   "execution_count": 28,
   "metadata": {},
   "outputs": [
    {
     "name": "stdout",
     "output_type": "stream",
     "text": [
      "[1. 1. 1. 1. 1. 1. 1. 1. 1. 1.]\n",
      "[[1. 1. 1.]\n",
      " [1. 1. 1.]\n",
      " [1. 1. 1.]\n",
      " [1. 1. 1.]\n",
      " [1. 1. 1.]\n",
      " [1. 1. 1.]\n",
      " [1. 1. 1.]\n",
      " [1. 1. 1.]\n",
      " [1. 1. 1.]\n",
      " [1. 1. 1.]]\n"
     ]
    }
   ],
   "source": [
    "np_array_ones1 = np.ones(10)\n",
    "np_array_ones2 = np.ones((10, 3))\n",
    "\n",
    "print(np_array_ones1)\n",
    "print(np_array_ones2)"
   ]
  },
  {
   "cell_type": "code",
   "execution_count": 29,
   "metadata": {},
   "outputs": [
    {
     "name": "stdout",
     "output_type": "stream",
     "text": [
      "1\n",
      "2\n"
     ]
    }
   ],
   "source": [
    "# return number of dimension of an array\n",
    "print(np_array_zeros1.ndim)\n",
    "print(np_array_zeros2.ndim)"
   ]
  },
  {
   "cell_type": "code",
   "execution_count": 31,
   "metadata": {},
   "outputs": [
    {
     "name": "stdout",
     "output_type": "stream",
     "text": [
      "4\n",
      "30\n"
     ]
    }
   ],
   "source": [
    "# return size of an array\n",
    "print(np_array_a14.size)\n",
    "print(np_array_ones2.size)"
   ]
  },
  {
   "cell_type": "code",
   "execution_count": 35,
   "metadata": {},
   "outputs": [
    {
     "name": "stdout",
     "output_type": "stream",
     "text": [
      "[0 1 2 3 4 5 6 7 8 9]\n",
      "[ 0  2  4  6  8 10 12 14 16 18]\n",
      "[50 45 40 35 30 25 20 15 10  5]\n"
     ]
    }
   ],
   "source": [
    "# array range\n",
    "np_arange10 = np.arange(10)\n",
    "print(np_arange10)\n",
    "\n",
    "np_arange20 = np.arange(0, 20, 2)\n",
    "print(np_arange20)\n",
    "\n",
    "np_arange_desc = np.arange(50, 0, -5)\n",
    "print(np_arange_desc)"
   ]
  },
  {
   "cell_type": "code",
   "execution_count": 37,
   "metadata": {},
   "outputs": [
    {
     "data": {
      "text/plain": [
       "array([ 0,  1,  2,  3,  4,  5,  6,  7,  8,  9,  0,  2,  4,  6,  8, 10, 12,\n",
       "       14, 16, 18, 50, 45, 40, 35, 30, 25, 20, 15, 10,  5])"
      ]
     },
     "execution_count": 37,
     "metadata": {},
     "output_type": "execute_result"
    }
   ],
   "source": [
    "arr = np.append(np_arange10, np_arange20)\n",
    "np.append(arr, np_arange_desc)\n"
   ]
  },
  {
   "cell_type": "code",
   "execution_count": 38,
   "metadata": {},
   "outputs": [
    {
     "data": {
      "text/plain": [
       "array([1. , 2. , 3. , 4. , 5. , 6. , 0.1, 0.2, 0.3, 0.4, 0.5, 0.6])"
      ]
     },
     "execution_count": 38,
     "metadata": {},
     "output_type": "execute_result"
    }
   ],
   "source": [
    "np.append(np_array_a2, np_array_b2)"
   ]
  },
  {
   "cell_type": "code",
   "execution_count": 40,
   "metadata": {},
   "outputs": [
    {
     "data": {
      "text/plain": [
       "array([[1. , 2. , 3. ],\n",
       "       [4. , 5. , 6. ],\n",
       "       [0.1, 0.2, 0.3],\n",
       "       [0.4, 0.5, 0.6]])"
      ]
     },
     "execution_count": 40,
     "metadata": {},
     "output_type": "execute_result"
    }
   ],
   "source": [
    "np.append(np_array_a2, np_array_b2, axis=0)"
   ]
  },
  {
   "cell_type": "code",
   "execution_count": 41,
   "metadata": {},
   "outputs": [
    {
     "data": {
      "text/plain": [
       "array([[1. , 2. , 3. , 0.1, 0.2, 0.3],\n",
       "       [4. , 5. , 6. , 0.4, 0.5, 0.6]])"
      ]
     },
     "execution_count": 41,
     "metadata": {},
     "output_type": "execute_result"
    }
   ],
   "source": [
    "np.append(np_array_a2, np_array_b2, axis=1)"
   ]
  },
  {
   "cell_type": "code",
   "execution_count": 42,
   "metadata": {},
   "outputs": [
    {
     "data": {
      "text/plain": [
       "array([1., 2., 3., 4., 5., 6., 0., 0., 0., 0., 0., 0., 0., 0., 0., 0., 0.,\n",
       "       0.])"
      ]
     },
     "execution_count": 42,
     "metadata": {},
     "output_type": "execute_result"
    }
   ],
   "source": [
    "np.append(np_array_a2, np_array_zeros2)"
   ]
  },
  {
   "cell_type": "code",
   "execution_count": 43,
   "metadata": {},
   "outputs": [
    {
     "ename": "SyntaxError",
     "evalue": "invalid syntax (<ipython-input-43-0a3b7c8dec4c>, line 1)",
     "output_type": "error",
     "traceback": [
      "\u001b[1;36m  File \u001b[1;32m\"<ipython-input-43-0a3b7c8dec4c>\"\u001b[1;36m, line \u001b[1;32m1\u001b[0m\n\u001b[1;33m    np.append(np_array_a2, np_array_zeros2 axis=0)\u001b[0m\n\u001b[1;37m                                           ^\u001b[0m\n\u001b[1;31mSyntaxError\u001b[0m\u001b[1;31m:\u001b[0m invalid syntax\n"
     ]
    }
   ],
   "source": [
    "np.append(np_array_a2, np_array_zeros2 axis=0)"
   ]
  },
  {
   "cell_type": "code",
   "execution_count": 44,
   "metadata": {},
   "outputs": [
    {
     "data": {
      "text/plain": [
       "array([ 5, 10, 15, 20, 25, 30, 35, 40, 45, 50])"
      ]
     },
     "execution_count": 44,
     "metadata": {},
     "output_type": "execute_result"
    }
   ],
   "source": [
    "np.sort(np_arange_desc)"
   ]
  },
  {
   "cell_type": "code",
   "execution_count": 46,
   "metadata": {},
   "outputs": [
    {
     "name": "stdout",
     "output_type": "stream",
     "text": [
      "[[1.  2.  3. ]\n",
      " [4.  5.  6. ]\n",
      " [0.1 0.2 0.3]\n",
      " [0.4 0.5 0.6]]\n"
     ]
    }
   ],
   "source": [
    "np_array_a2b2 = np.append(np_array_a2, np_array_b2, axis=0)\n",
    "print(np_array_a2b2)"
   ]
  },
  {
   "cell_type": "code",
   "execution_count": 47,
   "metadata": {},
   "outputs": [
    {
     "data": {
      "text/plain": [
       "array([[0.1, 0.2, 0.3],\n",
       "       [0.4, 0.5, 0.6],\n",
       "       [1. , 2. , 3. ],\n",
       "       [4. , 5. , 6. ]])"
      ]
     },
     "execution_count": 47,
     "metadata": {},
     "output_type": "execute_result"
    }
   ],
   "source": [
    "np.sort(np_array_a2b2 ,axis=0)"
   ]
  },
  {
   "cell_type": "code",
   "execution_count": 49,
   "metadata": {},
   "outputs": [
    {
     "name": "stdout",
     "output_type": "stream",
     "text": [
      "[[[  9   3   1   5]\n",
      "  [  1   2   2   3]\n",
      "  [  4  10   3   2]]\n",
      "\n",
      " [[ 19   3   1  50]\n",
      "  [ 13   1  21  13]\n",
      "  [  4  10   0   2]]\n",
      "\n",
      " [[100   2   3   3]\n",
      "  [  9   3   4   3]\n",
      "  [  1   1   2   0]]]\n",
      "shape: (3, 3, 4)\n",
      "ndim: 3\n",
      "size: 36\n"
     ]
    }
   ],
   "source": [
    "np_array_a3 = np.array(\n",
    "    [\n",
    "        [\n",
    "            [9, 3, 1, 5],\n",
    "            [1, 2, 2, 3],\n",
    "            [4, 10, 3, 2]\n",
    "        ],\n",
    "        [\n",
    "            [19, 3, 1, 50],\n",
    "            [13, 1, 21, 13],\n",
    "            [4, 10, 0, 2]\n",
    "        ],\n",
    "        [\n",
    "            [100, 2, 3, 3],\n",
    "            [9, 3, 4, 3],\n",
    "            [1, 1, 2, 0]\n",
    "        ],\n",
    "    ]\n",
    ")\n",
    "\n",
    "print(np_array_a3)\n",
    "print(\"shape:\", np_array_a3.shape)\n",
    "print(\"ndim:\", np_array_a3.ndim)\n",
    "print(\"size:\", np_array_a3.size)"
   ]
  },
  {
   "cell_type": "code",
   "execution_count": 50,
   "metadata": {},
   "outputs": [
    {
     "data": {
      "text/plain": [
       "numpy.ndarray"
      ]
     },
     "execution_count": 50,
     "metadata": {},
     "output_type": "execute_result"
    }
   ],
   "source": [
    "type(np_array_a3)"
   ]
  },
  {
   "cell_type": "code",
   "execution_count": 52,
   "metadata": {},
   "outputs": [
    {
     "data": {
      "text/plain": [
       "array([[  9,   3,   1,   5,   1,   2],\n",
       "       [  2,   3,   4,  10,   3,   2],\n",
       "       [ 19,   3,   1,  50,  13,   1],\n",
       "       [ 21,  13,   4,  10,   0,   2],\n",
       "       [100,   2,   3,   3,   9,   3],\n",
       "       [  4,   3,   1,   1,   2,   0]])"
      ]
     },
     "execution_count": 52,
     "metadata": {},
     "output_type": "execute_result"
    }
   ],
   "source": [
    "np.reshape(np_array_a3, (6, 6))"
   ]
  },
  {
   "cell_type": "code",
   "execution_count": 53,
   "metadata": {},
   "outputs": [
    {
     "data": {
      "text/plain": [
       "array([[  9,   3,   1,   5,   1,   2],\n",
       "       [  2,   3,   4,  10,   3,   2],\n",
       "       [ 19,   3,   1,  50,  13,   1],\n",
       "       [ 21,  13,   4,  10,   0,   2],\n",
       "       [100,   2,   3,   3,   9,   3],\n",
       "       [  4,   3,   1,   1,   2,   0]])"
      ]
     },
     "execution_count": 53,
     "metadata": {},
     "output_type": "execute_result"
    }
   ],
   "source": [
    "np_array_a3.reshape((6, 6))"
   ]
  },
  {
   "cell_type": "code",
   "execution_count": 54,
   "metadata": {},
   "outputs": [
    {
     "ename": "ValueError",
     "evalue": "cannot reshape array of size 36 into shape (4,4)",
     "output_type": "error",
     "traceback": [
      "\u001b[1;31m---------------------------------------------------------------------------\u001b[0m",
      "\u001b[1;31mValueError\u001b[0m                                Traceback (most recent call last)",
      "\u001b[1;32m<ipython-input-54-1dc9003aabd0>\u001b[0m in \u001b[0;36m<module>\u001b[1;34m\u001b[0m\n\u001b[1;32m----> 1\u001b[1;33m \u001b[0mnp_array_a3\u001b[0m\u001b[1;33m.\u001b[0m\u001b[0mreshape\u001b[0m\u001b[1;33m(\u001b[0m\u001b[1;33m(\u001b[0m\u001b[1;36m4\u001b[0m\u001b[1;33m,\u001b[0m \u001b[1;36m4\u001b[0m\u001b[1;33m)\u001b[0m\u001b[1;33m)\u001b[0m\u001b[1;33m\u001b[0m\u001b[1;33m\u001b[0m\u001b[0m\n\u001b[0m",
      "\u001b[1;31mValueError\u001b[0m: cannot reshape array of size 36 into shape (4,4)"
     ]
    }
   ],
   "source": [
    "np_array_a3.reshape((4, 4))"
   ]
  },
  {
   "cell_type": "code",
   "execution_count": 55,
   "metadata": {},
   "outputs": [
    {
     "ename": "ValueError",
     "evalue": "cannot reshape array of size 36 into shape (4,10)",
     "output_type": "error",
     "traceback": [
      "\u001b[1;31m---------------------------------------------------------------------------\u001b[0m",
      "\u001b[1;31mValueError\u001b[0m                                Traceback (most recent call last)",
      "\u001b[1;32m<ipython-input-55-bad9cef87d77>\u001b[0m in \u001b[0;36m<module>\u001b[1;34m\u001b[0m\n\u001b[1;32m----> 1\u001b[1;33m \u001b[0mnp_array_a3\u001b[0m\u001b[1;33m.\u001b[0m\u001b[0mreshape\u001b[0m\u001b[1;33m(\u001b[0m\u001b[1;33m(\u001b[0m\u001b[1;36m4\u001b[0m\u001b[1;33m,\u001b[0m \u001b[1;36m10\u001b[0m\u001b[1;33m)\u001b[0m\u001b[1;33m)\u001b[0m\u001b[1;33m\u001b[0m\u001b[1;33m\u001b[0m\u001b[0m\n\u001b[0m",
      "\u001b[1;31mValueError\u001b[0m: cannot reshape array of size 36 into shape (4,10)"
     ]
    }
   ],
   "source": [
    "np_array_a3.reshape((4, 10))"
   ]
  },
  {
   "cell_type": "code",
   "execution_count": 57,
   "metadata": {},
   "outputs": [
    {
     "data": {
      "text/plain": [
       "array([[[[  9,   3],\n",
       "         [  1,   5]],\n",
       "\n",
       "        [[  1,   2],\n",
       "         [  2,   3]],\n",
       "\n",
       "        [[  4,  10],\n",
       "         [  3,   2]]],\n",
       "\n",
       "\n",
       "       [[[ 19,   3],\n",
       "         [  1,  50]],\n",
       "\n",
       "        [[ 13,   1],\n",
       "         [ 21,  13]],\n",
       "\n",
       "        [[  4,  10],\n",
       "         [  0,   2]]],\n",
       "\n",
       "\n",
       "       [[[100,   2],\n",
       "         [  3,   3]],\n",
       "\n",
       "        [[  9,   3],\n",
       "         [  4,   3]],\n",
       "\n",
       "        [[  1,   1],\n",
       "         [  2,   0]]]])"
      ]
     },
     "execution_count": 57,
     "metadata": {},
     "output_type": "execute_result"
    }
   ],
   "source": [
    "np_array_a3.reshape((3, 3, 2, 2))"
   ]
  },
  {
   "cell_type": "code",
   "execution_count": 58,
   "metadata": {},
   "outputs": [
    {
     "data": {
      "text/plain": [
       "array([[[[[  9],\n",
       "          [  3]],\n",
       "\n",
       "         [[  1],\n",
       "          [  5]]],\n",
       "\n",
       "\n",
       "        [[[  1],\n",
       "          [  2]],\n",
       "\n",
       "         [[  2],\n",
       "          [  3]]],\n",
       "\n",
       "\n",
       "        [[[  4],\n",
       "          [ 10]],\n",
       "\n",
       "         [[  3],\n",
       "          [  2]]]],\n",
       "\n",
       "\n",
       "\n",
       "       [[[[ 19],\n",
       "          [  3]],\n",
       "\n",
       "         [[  1],\n",
       "          [ 50]]],\n",
       "\n",
       "\n",
       "        [[[ 13],\n",
       "          [  1]],\n",
       "\n",
       "         [[ 21],\n",
       "          [ 13]]],\n",
       "\n",
       "\n",
       "        [[[  4],\n",
       "          [ 10]],\n",
       "\n",
       "         [[  0],\n",
       "          [  2]]]],\n",
       "\n",
       "\n",
       "\n",
       "       [[[[100],\n",
       "          [  2]],\n",
       "\n",
       "         [[  3],\n",
       "          [  3]]],\n",
       "\n",
       "\n",
       "        [[[  9],\n",
       "          [  3]],\n",
       "\n",
       "         [[  4],\n",
       "          [  3]]],\n",
       "\n",
       "\n",
       "        [[[  1],\n",
       "          [  1]],\n",
       "\n",
       "         [[  2],\n",
       "          [  0]]]]])"
      ]
     },
     "execution_count": 58,
     "metadata": {},
     "output_type": "execute_result"
    }
   ],
   "source": [
    "np_array_a3.reshape((3, 3, 2, 2, 1))"
   ]
  },
  {
   "cell_type": "code",
   "execution_count": 60,
   "metadata": {},
   "outputs": [
    {
     "data": {
      "text/plain": [
       "array([[2],\n",
       "       [4],\n",
       "       [6],\n",
       "       [8]])"
      ]
     },
     "execution_count": 60,
     "metadata": {},
     "output_type": "execute_result"
    }
   ],
   "source": [
    "np_array_a1[:, np.newaxis]"
   ]
  },
  {
   "cell_type": "code",
   "execution_count": 61,
   "metadata": {},
   "outputs": [
    {
     "data": {
      "text/plain": [
       "array([[2],\n",
       "       [4],\n",
       "       [6],\n",
       "       [8]])"
      ]
     },
     "execution_count": 61,
     "metadata": {},
     "output_type": "execute_result"
    }
   ],
   "source": [
    "np.expand_dims(np_array_a1, axis=1)"
   ]
  },
  {
   "cell_type": "code",
   "execution_count": 62,
   "metadata": {},
   "outputs": [
    {
     "data": {
      "text/plain": [
       "array([[2, 4, 6, 8]])"
      ]
     },
     "execution_count": 62,
     "metadata": {},
     "output_type": "execute_result"
    }
   ],
   "source": [
    "np.expand_dims(np_array_a1, axis=0)"
   ]
  },
  {
   "cell_type": "code",
   "execution_count": 65,
   "metadata": {},
   "outputs": [
    {
     "data": {
      "text/plain": [
       "array([[[[2]],\n",
       "\n",
       "        [[4]],\n",
       "\n",
       "        [[6]],\n",
       "\n",
       "        [[8]]]])"
      ]
     },
     "execution_count": 65,
     "metadata": {},
     "output_type": "execute_result"
    }
   ],
   "source": [
    "np_array_a1[None, :, None, None]"
   ]
  },
  {
   "cell_type": "code",
   "execution_count": 66,
   "metadata": {},
   "outputs": [
    {
     "data": {
      "text/plain": [
       "array([[[[2]],\n",
       "\n",
       "        [[4]],\n",
       "\n",
       "        [[6]],\n",
       "\n",
       "        [[8]]]])"
      ]
     },
     "execution_count": 66,
     "metadata": {},
     "output_type": "execute_result"
    }
   ],
   "source": [
    "np_array_a1[np.newaxis, :, np.newaxis, np.newaxis]"
   ]
  },
  {
   "cell_type": "code",
   "execution_count": 71,
   "metadata": {},
   "outputs": [
    {
     "name": "stdout",
     "output_type": "stream",
     "text": [
      "[[0. 0. 0. 0. 0.]]\n",
      "[[0.]\n",
      " [0.]\n",
      " [0.]\n",
      " [0.]\n",
      " [0.]]\n",
      "[[[0.]\n",
      "  [0.]\n",
      "  [0.]\n",
      "  [0.]\n",
      "  [0.]]]\n"
     ]
    }
   ],
   "source": [
    "print(np_array_zeros1.reshape((1, 5)))\n",
    "print(np_array_zeros1.reshape((5,1)))\n",
    "print(np_array_zeros1.reshape((1, 5, 1)))"
   ]
  },
  {
   "cell_type": "code",
   "execution_count": 76,
   "metadata": {},
   "outputs": [
    {
     "data": {
      "text/plain": [
       "array([[1., 2., 3., 4., 5.],\n",
       "       [6., 0., 0., 0., 0.]])"
      ]
     },
     "execution_count": 76,
     "metadata": {},
     "output_type": "execute_result"
    }
   ],
   "source": [
    "size = np_array_a2.size\n",
    "new_size = 10\n",
    "np.append(np_array_a2, np.zeros(new_size - size)).reshape((2, 5))"
   ]
  },
  {
   "cell_type": "code",
   "execution_count": 77,
   "metadata": {},
   "outputs": [
    {
     "name": "stdout",
     "output_type": "stream",
     "text": [
      "[0.  0.2 0.4 0.6 0.8 1.  1.2 1.4 1.6] (9,) [0.  0.2 0.4 0.6 0.8 1.  1.2 1.4 1.6] 6\n"
     ]
    }
   ],
   "source": [
    "np_array_c1 = np.arange(0, 1.8, .2)\n",
    "print(np_array_c1, np_array_c1.shape, np_array_c1,size)"
   ]
  },
  {
   "cell_type": "code",
   "execution_count": 78,
   "metadata": {},
   "outputs": [
    {
     "name": "stdout",
     "output_type": "stream",
     "text": [
      "number of item: 9\n",
      "median: 0.8\n"
     ]
    }
   ],
   "source": [
    "# ambil median\n",
    "# median -> nilai tengah -> n=9, nilai tengah ke-4\n",
    "# cari tahu n -> len()\n",
    "# n // 2\n",
    "n = np_array_c1.shape[0]\n",
    "print(\"number of item:\", n)\n",
    "\n",
    "med = np_array_c1[n // 2]\n",
    "print(\"median:\", med)"
   ]
  },
  {
   "cell_type": "code",
   "execution_count": 79,
   "metadata": {},
   "outputs": [
    {
     "name": "stdout",
     "output_type": "stream",
     "text": [
      "[[0.1, 0.2, 0.3], [0.4, 0.5, 0.6]] <class 'list'>\n"
     ]
    }
   ],
   "source": [
    "list_array_b2 = np_array_b2.tolist()\n",
    "print(list_array_b2, type(list_array_b2))"
   ]
  },
  {
   "cell_type": "code",
   "execution_count": 83,
   "metadata": {},
   "outputs": [
    {
     "data": {
      "text/plain": [
       "([0.1, 0.2], [0.4, 0.5])"
      ]
     },
     "execution_count": 83,
     "metadata": {},
     "output_type": "execute_result"
    }
   ],
   "source": [
    "list_array_b2[0][:2], list_array_b2[1][:2]"
   ]
  },
  {
   "cell_type": "code",
   "execution_count": 84,
   "metadata": {},
   "outputs": [
    {
     "data": {
      "text/plain": [
       "array([[0.1, 0.2],\n",
       "       [0.4, 0.5]])"
      ]
     },
     "execution_count": 84,
     "metadata": {},
     "output_type": "execute_result"
    }
   ],
   "source": [
    "np_array_b2[:, :2]"
   ]
  },
  {
   "cell_type": "code",
   "execution_count": 85,
   "metadata": {},
   "outputs": [
    {
     "data": {
      "text/plain": [
       "array([0.1, 0.4])"
      ]
     },
     "execution_count": 85,
     "metadata": {},
     "output_type": "execute_result"
    }
   ],
   "source": [
    "np_array_b2[:, 0]"
   ]
  },
  {
   "cell_type": "code",
   "execution_count": 86,
   "metadata": {},
   "outputs": [
    {
     "data": {
      "text/plain": [
       "array([0.2, 0.5])"
      ]
     },
     "execution_count": 86,
     "metadata": {},
     "output_type": "execute_result"
    }
   ],
   "source": [
    "np_array_b2[:, 1]"
   ]
  },
  {
   "cell_type": "code",
   "execution_count": 100,
   "metadata": {},
   "outputs": [
    {
     "data": {
      "text/plain": [
       "(array([[0.1, 0.3],\n",
       "        [0.4, 0.6]]),\n",
       " array([[0.1, 0.3],\n",
       "        [0.4, 0.6]]))"
      ]
     },
     "execution_count": 100,
     "metadata": {},
     "output_type": "execute_result"
    }
   ],
   "source": [
    "np_array_b2[:, [0, 2]], np_array_b2[:, ::2]"
   ]
  },
  {
   "cell_type": "code",
   "execution_count": 103,
   "metadata": {},
   "outputs": [
    {
     "name": "stdout",
     "output_type": "stream",
     "text": [
      "[[  9   3   1   5   1   2   2   3   4  10   3   2]\n",
      " [ 19   3   1  50  13   1  21  13   4  10   0   2]\n",
      " [100   2   3   3   9   3   4   3   1   1   2   0]]\n"
     ]
    }
   ],
   "source": [
    "np_array_c2 = np_array_a3.reshape((3, 12))\n",
    "print(np_array_c2)"
   ]
  },
  {
   "cell_type": "code",
   "execution_count": 104,
   "metadata": {},
   "outputs": [
    {
     "data": {
      "text/plain": [
       "array([ 9,  3,  3,  3,  3, 21,  0,  3,  3,  9,  3,  3,  0])"
      ]
     },
     "execution_count": 104,
     "metadata": {},
     "output_type": "execute_result"
    }
   ],
   "source": [
    "np_array_c2[np_array_c2 % 3 == 0]"
   ]
  },
  {
   "cell_type": "code",
   "execution_count": 107,
   "metadata": {},
   "outputs": [
    {
     "data": {
      "text/plain": [
       "(array([2, 4, 6, 8]), array([2, 6, 8]), array([2, 6, 8]))"
      ]
     },
     "execution_count": 107,
     "metadata": {},
     "output_type": "execute_result"
    }
   ],
   "source": [
    "np_array_a1, np_array_a1[[True, False, True, True]], np_array_a1[[0, 2, 3]]"
   ]
  },
  {
   "cell_type": "code",
   "execution_count": 105,
   "metadata": {},
   "outputs": [
    {
     "data": {
      "text/plain": [
       "array([[ True,  True, False, False, False, False, False,  True, False,\n",
       "        False,  True, False],\n",
       "       [False,  True, False, False, False, False,  True, False, False,\n",
       "        False,  True, False],\n",
       "       [False, False,  True,  True,  True,  True, False,  True, False,\n",
       "        False, False,  True]])"
      ]
     },
     "execution_count": 105,
     "metadata": {},
     "output_type": "execute_result"
    }
   ],
   "source": [
    "np_array_c2 % 3 == 0"
   ]
  },
  {
   "cell_type": "code",
   "execution_count": 108,
   "metadata": {},
   "outputs": [
    {
     "data": {
      "text/plain": [
       "array([[  9,   3,   1,   5,   1,   2,   2,   3,   4,  10,   3,   2],\n",
       "       [ 19,   3,   1,  50,  13,   1,  21,  13,   4,  10,   0,   2],\n",
       "       [100,   2,   3,   3,   9,   3,   4,   3,   1,   1,   2,   0],\n",
       "       [  9,   3,   1,   5,   1,   2,   2,   3,   4,  10,   3,   2],\n",
       "       [ 19,   3,   1,  50,  13,   1,  21,  13,   4,  10,   0,   2],\n",
       "       [100,   2,   3,   3,   9,   3,   4,   3,   1,   1,   2,   0],\n",
       "       [  9,   3,   1,   5,   1,   2,   2,   3,   4,  10,   3,   2],\n",
       "       [ 19,   3,   1,  50,  13,   1,  21,  13,   4,  10,   0,   2],\n",
       "       [100,   2,   3,   3,   9,   3,   4,   3,   1,   1,   2,   0],\n",
       "       [  9,   3,   1,   5,   1,   2,   2,   3,   4,  10,   3,   2],\n",
       "       [ 19,   3,   1,  50,  13,   1,  21,  13,   4,  10,   0,   2],\n",
       "       [100,   2,   3,   3,   9,   3,   4,   3,   1,   1,   2,   0]])"
      ]
     },
     "execution_count": 108,
     "metadata": {},
     "output_type": "execute_result"
    }
   ],
   "source": [
    "np.concatenate((np_array_c2, np_array_c2, np_array_c2, np_array_c2), axis=0)"
   ]
  },
  {
   "cell_type": "code",
   "execution_count": 109,
   "metadata": {},
   "outputs": [
    {
     "data": {
      "text/plain": [
       "array([[ 18,   6,   2,  10,   2,   4,   4,   6,   8,  20,   6,   4],\n",
       "       [ 38,   6,   2, 100,  26,   2,  42,  26,   8,  20,   0,   4],\n",
       "       [200,   4,   6,   6,  18,   6,   8,   6,   2,   2,   4,   0]])"
      ]
     },
     "execution_count": 109,
     "metadata": {},
     "output_type": "execute_result"
    }
   ],
   "source": [
    "np_array_c2 + np_array_c2"
   ]
  },
  {
   "cell_type": "code",
   "execution_count": 110,
   "metadata": {},
   "outputs": [
    {
     "data": {
      "text/plain": [
       "array([[0, 0, 0, 0, 0, 0, 0, 0, 0, 0, 0, 0],\n",
       "       [0, 0, 0, 0, 0, 0, 0, 0, 0, 0, 0, 0],\n",
       "       [0, 0, 0, 0, 0, 0, 0, 0, 0, 0, 0, 0]])"
      ]
     },
     "execution_count": 110,
     "metadata": {},
     "output_type": "execute_result"
    }
   ],
   "source": [
    "np_array_c2 - np_array_c2"
   ]
  },
  {
   "cell_type": "code",
   "execution_count": 111,
   "metadata": {},
   "outputs": [
    {
     "name": "stderr",
     "output_type": "stream",
     "text": [
      "<ipython-input-111-cd24c6aff44e>:1: RuntimeWarning: invalid value encountered in true_divide\n",
      "  np_array_c2 / np_array_c2\n"
     ]
    },
    {
     "data": {
      "text/plain": [
       "array([[ 1.,  1.,  1.,  1.,  1.,  1.,  1.,  1.,  1.,  1.,  1.,  1.],\n",
       "       [ 1.,  1.,  1.,  1.,  1.,  1.,  1.,  1.,  1.,  1., nan,  1.],\n",
       "       [ 1.,  1.,  1.,  1.,  1.,  1.,  1.,  1.,  1.,  1.,  1., nan]])"
      ]
     },
     "execution_count": 111,
     "metadata": {},
     "output_type": "execute_result"
    }
   ],
   "source": [
    "np_array_c2 / np_array_c2"
   ]
  },
  {
   "cell_type": "code",
   "execution_count": 112,
   "metadata": {},
   "outputs": [
    {
     "data": {
      "text/plain": [
       "(None, nan, float)"
      ]
     },
     "execution_count": 112,
     "metadata": {},
     "output_type": "execute_result"
    }
   ],
   "source": [
    "None, np.nan, type(np.nan)"
   ]
  },
  {
   "cell_type": "code",
   "execution_count": 113,
   "metadata": {},
   "outputs": [
    {
     "data": {
      "text/plain": [
       "array([[   81,     9,     1,    25,     1,     4,     4,     9,    16,\n",
       "          100,     9,     4],\n",
       "       [  361,     9,     1,  2500,   169,     1,   441,   169,    16,\n",
       "          100,     0,     4],\n",
       "       [10000,     4,     9,     9,    81,     9,    16,     9,     1,\n",
       "            1,     4,     0]])"
      ]
     },
     "execution_count": 113,
     "metadata": {},
     "output_type": "execute_result"
    }
   ],
   "source": [
    "np_array_c2 * np_array_c2"
   ]
  },
  {
   "cell_type": "code",
   "execution_count": 115,
   "metadata": {},
   "outputs": [
    {
     "data": {
      "text/plain": [
       "array([[ 18,   6,   2,  10,   2,   4,   4,   6,   8,  20,   6,   4],\n",
       "       [ 38,   6,   2, 100,  26,   2,  42,  26,   8,  20,   0,   4],\n",
       "       [200,   4,   6,   6,  18,   6,   8,   6,   2,   2,   4,   0]])"
      ]
     },
     "execution_count": 115,
     "metadata": {},
     "output_type": "execute_result"
    }
   ],
   "source": [
    "np_array_c2 * 2"
   ]
  },
  {
   "cell_type": "code",
   "execution_count": 116,
   "metadata": {},
   "outputs": [
    {
     "data": {
      "text/plain": [
       "array([[ 11,   5,   3,   7,   3,   4,   4,   5,   6,  12,   5,   4],\n",
       "       [ 21,   5,   3,  52,  15,   3,  23,  15,   6,  12,   2,   4],\n",
       "       [102,   4,   5,   5,  11,   5,   6,   5,   3,   3,   4,   2]])"
      ]
     },
     "execution_count": 116,
     "metadata": {},
     "output_type": "execute_result"
    }
   ],
   "source": [
    "np_array_c2 + 2"
   ]
  },
  {
   "cell_type": "code",
   "execution_count": 117,
   "metadata": {},
   "outputs": [
    {
     "data": {
      "text/plain": [
       "array([[ 18,   6,   2,  10,   2,   4,   4,   6,   8,  20,   6,   4],\n",
       "       [ 28,   6,   2,  55,  14,   3,  23,  16,   8,  20,   3,   4],\n",
       "       [109,   5,   4,   8,  10,   5,   6,   6,   5,  11,   5,   2]])"
      ]
     },
     "execution_count": 117,
     "metadata": {},
     "output_type": "execute_result"
    }
   ],
   "source": [
    "np_array_c2 + np_array_c2[0]"
   ]
  },
  {
   "cell_type": "code",
   "execution_count": 120,
   "metadata": {},
   "outputs": [
    {
     "data": {
      "text/plain": [
       "array([[  9,   3,   1,   5,   1,   2,   2,   3,   4,  10,   3,   2],\n",
       "       [ 19,   3,   1,  50,  13,   1,  21,  13,   4,  10,   0,   2],\n",
       "       [100,   2,   3,   3,   9,   3,   4,   3,   1,   1,   2,   0]])"
      ]
     },
     "execution_count": 120,
     "metadata": {},
     "output_type": "execute_result"
    }
   ],
   "source": [
    "np_array_c2"
   ]
  },
  {
   "cell_type": "code",
   "execution_count": 122,
   "metadata": {},
   "outputs": [
    {
     "name": "stdout",
     "output_type": "stream",
     "text": [
      "[ 10  50 100]\n",
      "[100   3   3  50  13   3  21  13   4  10   3   2]\n",
      "[[ 10]\n",
      " [ 50]\n",
      " [100]]\n",
      "[[100   3   3  50  13   3  21  13   4  10   3   2]]\n"
     ]
    }
   ],
   "source": [
    "np_array_c2.max()\n",
    "print(np_array_c2.max(axis=1))\n",
    "print(np_array_c2.max(axis=0))\n",
    "print(np_array_c2.max(axis=1, keepdims=True))\n",
    "print(np_array_c2.max(axis=0, keepdims=True))"
   ]
  },
  {
   "cell_type": "code",
   "execution_count": 123,
   "metadata": {},
   "outputs": [
    {
     "data": {
      "text/plain": [
       "array([[1, 2, 3],\n",
       "       [4, 5, 6]])"
      ]
     },
     "execution_count": 123,
     "metadata": {},
     "output_type": "execute_result"
    }
   ],
   "source": [
    "np_array_a2"
   ]
  },
  {
   "cell_type": "code",
   "execution_count": 124,
   "metadata": {},
   "outputs": [
    {
     "data": {
      "text/plain": [
       "(array([[1, 4],\n",
       "        [2, 5],\n",
       "        [3, 6]]),\n",
       " array([[1, 4],\n",
       "        [2, 5],\n",
       "        [3, 6]]))"
      ]
     },
     "execution_count": 124,
     "metadata": {},
     "output_type": "execute_result"
    }
   ],
   "source": [
    "np_array_a2.transpose(), np_array_a2.T"
   ]
  },
  {
   "cell_type": "code",
   "execution_count": 125,
   "metadata": {},
   "outputs": [
    {
     "data": {
      "text/plain": [
       "array([[14, 32],\n",
       "       [32, 77]])"
      ]
     },
     "execution_count": 125,
     "metadata": {},
     "output_type": "execute_result"
    }
   ],
   "source": [
    "np.dot(np_array_a2, np_array_a2.T)"
   ]
  },
  {
   "cell_type": "code",
   "execution_count": 126,
   "metadata": {},
   "outputs": [
    {
     "data": {
      "text/plain": [
       "array([[14, 32],\n",
       "       [32, 77]])"
      ]
     },
     "execution_count": 126,
     "metadata": {},
     "output_type": "execute_result"
    }
   ],
   "source": [
    "np.matmul(np_array_a2, np_array_a2.T)"
   ]
  },
  {
   "cell_type": "code",
   "execution_count": 127,
   "metadata": {},
   "outputs": [
    {
     "data": {
      "text/plain": [
       "array([1, 2, 3, 4, 5, 6])"
      ]
     },
     "execution_count": 127,
     "metadata": {},
     "output_type": "execute_result"
    }
   ],
   "source": [
    "np_array_a2.flatten()"
   ]
  },
  {
   "cell_type": "code",
   "execution_count": 128,
   "metadata": {},
   "outputs": [
    {
     "data": {
      "text/plain": [
       "array([  9,   3,   1,   5,   1,   2,   2,   3,   4,  10,   3,   2,  19,\n",
       "         3,   1,  50,  13,   1,  21,  13,   4,  10,   0,   2, 100,   2,\n",
       "         3,   3,   9,   3,   4,   3,   1,   1,   2,   0])"
      ]
     },
     "execution_count": 128,
     "metadata": {},
     "output_type": "execute_result"
    }
   ],
   "source": [
    "np_array_a3.flatten()"
   ]
  },
  {
   "cell_type": "code",
   "execution_count": 135,
   "metadata": {},
   "outputs": [
    {
     "data": {
      "text/plain": [
       "array([[[49, 64, 32],\n",
       "        [86, 19, 77]],\n",
       "\n",
       "       [[74, 14, 63],\n",
       "        [35, 92, 55]]])"
      ]
     },
     "execution_count": 135,
     "metadata": {},
     "output_type": "execute_result"
    }
   ],
   "source": [
    "np.random.randint(10, 100,  size=(2, 2, 3))"
   ]
  },
  {
   "cell_type": "code",
   "execution_count": null,
   "metadata": {},
   "outputs": [],
   "source": []
  },
  {
   "cell_type": "code",
   "execution_count": null,
   "metadata": {},
   "outputs": [],
   "source": []
  }
 ],
 "metadata": {
  "kernelspec": {
   "display_name": "Python 3",
   "language": "python",
   "name": "python3"
  },
  "language_info": {
   "codemirror_mode": {
    "name": "ipython",
    "version": 3
   },
   "file_extension": ".py",
   "mimetype": "text/x-python",
   "name": "python",
   "nbconvert_exporter": "python",
   "pygments_lexer": "ipython3",
   "version": "3.8.5"
  }
 },
 "nbformat": 4,
 "nbformat_minor": 4
}
